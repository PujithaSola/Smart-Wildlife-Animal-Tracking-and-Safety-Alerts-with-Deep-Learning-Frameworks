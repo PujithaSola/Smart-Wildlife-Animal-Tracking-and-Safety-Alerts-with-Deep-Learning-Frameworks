{
  "nbformat": 4,
  "nbformat_minor": 0,
  "metadata": {
    "colab": {
      "provenance": [],
      "gpuType": "T4"
    },
    "kernelspec": {
      "name": "python3",
      "display_name": "Python 3"
    },
    "language_info": {
      "name": "python"
    },
    "accelerator": "GPU"
  },
  "cells": [
    {
      "cell_type": "code",
      "execution_count": 1,
      "metadata": {
        "id": "Nwq4ULSvgaSI",
        "colab": {
          "base_uri": "https://localhost:8080/"
        },
        "outputId": "8d6cf212-65dd-4eaf-fe6e-755daaf1f5b9"
      },
      "outputs": [
        {
          "output_type": "stream",
          "name": "stdout",
          "text": [
            "Mounted at /content/driver/\n"
          ]
        }
      ],
      "source": [
        "from google.colab import drive\n",
        "drive.mount('/content/driver/')"
      ]
    },
    {
      "cell_type": "code",
      "source": [
        "!pip install ultralytics"
      ],
      "metadata": {
        "colab": {
          "base_uri": "https://localhost:8080/"
        },
        "id": "e9eIMaqhnIyQ",
        "outputId": "7dd1b177-2c52-4bb2-bbfb-febd4484d4e3"
      },
      "execution_count": 3,
      "outputs": [
        {
          "output_type": "stream",
          "name": "stdout",
          "text": [
            "Collecting ultralytics\n",
            "  Downloading ultralytics-8.3.23-py3-none-any.whl.metadata (35 kB)\n",
            "Requirement already satisfied: numpy>=1.23.0 in /usr/local/lib/python3.10/dist-packages (from ultralytics) (1.26.4)\n",
            "Requirement already satisfied: matplotlib>=3.3.0 in /usr/local/lib/python3.10/dist-packages (from ultralytics) (3.7.1)\n",
            "Requirement already satisfied: opencv-python>=4.6.0 in /usr/local/lib/python3.10/dist-packages (from ultralytics) (4.10.0.84)\n",
            "Requirement already satisfied: pillow>=7.1.2 in /usr/local/lib/python3.10/dist-packages (from ultralytics) (10.4.0)\n",
            "Requirement already satisfied: pyyaml>=5.3.1 in /usr/local/lib/python3.10/dist-packages (from ultralytics) (6.0.2)\n",
            "Requirement already satisfied: requests>=2.23.0 in /usr/local/lib/python3.10/dist-packages (from ultralytics) (2.32.3)\n",
            "Requirement already satisfied: scipy>=1.4.1 in /usr/local/lib/python3.10/dist-packages (from ultralytics) (1.13.1)\n",
            "Requirement already satisfied: torch>=1.8.0 in /usr/local/lib/python3.10/dist-packages (from ultralytics) (2.5.0+cu121)\n",
            "Requirement already satisfied: torchvision>=0.9.0 in /usr/local/lib/python3.10/dist-packages (from ultralytics) (0.20.0+cu121)\n",
            "Requirement already satisfied: tqdm>=4.64.0 in /usr/local/lib/python3.10/dist-packages (from ultralytics) (4.66.5)\n",
            "Requirement already satisfied: psutil in /usr/local/lib/python3.10/dist-packages (from ultralytics) (5.9.5)\n",
            "Requirement already satisfied: py-cpuinfo in /usr/local/lib/python3.10/dist-packages (from ultralytics) (9.0.0)\n",
            "Requirement already satisfied: pandas>=1.1.4 in /usr/local/lib/python3.10/dist-packages (from ultralytics) (2.2.2)\n",
            "Requirement already satisfied: seaborn>=0.11.0 in /usr/local/lib/python3.10/dist-packages (from ultralytics) (0.13.2)\n",
            "Collecting ultralytics-thop>=2.0.0 (from ultralytics)\n",
            "  Downloading ultralytics_thop-2.0.9-py3-none-any.whl.metadata (9.3 kB)\n",
            "Requirement already satisfied: contourpy>=1.0.1 in /usr/local/lib/python3.10/dist-packages (from matplotlib>=3.3.0->ultralytics) (1.3.0)\n",
            "Requirement already satisfied: cycler>=0.10 in /usr/local/lib/python3.10/dist-packages (from matplotlib>=3.3.0->ultralytics) (0.12.1)\n",
            "Requirement already satisfied: fonttools>=4.22.0 in /usr/local/lib/python3.10/dist-packages (from matplotlib>=3.3.0->ultralytics) (4.54.1)\n",
            "Requirement already satisfied: kiwisolver>=1.0.1 in /usr/local/lib/python3.10/dist-packages (from matplotlib>=3.3.0->ultralytics) (1.4.7)\n",
            "Requirement already satisfied: packaging>=20.0 in /usr/local/lib/python3.10/dist-packages (from matplotlib>=3.3.0->ultralytics) (24.1)\n",
            "Requirement already satisfied: pyparsing>=2.3.1 in /usr/local/lib/python3.10/dist-packages (from matplotlib>=3.3.0->ultralytics) (3.2.0)\n",
            "Requirement already satisfied: python-dateutil>=2.7 in /usr/local/lib/python3.10/dist-packages (from matplotlib>=3.3.0->ultralytics) (2.8.2)\n",
            "Requirement already satisfied: pytz>=2020.1 in /usr/local/lib/python3.10/dist-packages (from pandas>=1.1.4->ultralytics) (2024.2)\n",
            "Requirement already satisfied: tzdata>=2022.7 in /usr/local/lib/python3.10/dist-packages (from pandas>=1.1.4->ultralytics) (2024.2)\n",
            "Requirement already satisfied: charset-normalizer<4,>=2 in /usr/local/lib/python3.10/dist-packages (from requests>=2.23.0->ultralytics) (3.4.0)\n",
            "Requirement already satisfied: idna<4,>=2.5 in /usr/local/lib/python3.10/dist-packages (from requests>=2.23.0->ultralytics) (3.10)\n",
            "Requirement already satisfied: urllib3<3,>=1.21.1 in /usr/local/lib/python3.10/dist-packages (from requests>=2.23.0->ultralytics) (2.2.3)\n",
            "Requirement already satisfied: certifi>=2017.4.17 in /usr/local/lib/python3.10/dist-packages (from requests>=2.23.0->ultralytics) (2024.8.30)\n",
            "Requirement already satisfied: filelock in /usr/local/lib/python3.10/dist-packages (from torch>=1.8.0->ultralytics) (3.16.1)\n",
            "Requirement already satisfied: typing-extensions>=4.8.0 in /usr/local/lib/python3.10/dist-packages (from torch>=1.8.0->ultralytics) (4.12.2)\n",
            "Requirement already satisfied: networkx in /usr/local/lib/python3.10/dist-packages (from torch>=1.8.0->ultralytics) (3.4.2)\n",
            "Requirement already satisfied: jinja2 in /usr/local/lib/python3.10/dist-packages (from torch>=1.8.0->ultralytics) (3.1.4)\n",
            "Requirement already satisfied: fsspec in /usr/local/lib/python3.10/dist-packages (from torch>=1.8.0->ultralytics) (2024.6.1)\n",
            "Requirement already satisfied: sympy==1.13.1 in /usr/local/lib/python3.10/dist-packages (from torch>=1.8.0->ultralytics) (1.13.1)\n",
            "Requirement already satisfied: mpmath<1.4,>=1.1.0 in /usr/local/lib/python3.10/dist-packages (from sympy==1.13.1->torch>=1.8.0->ultralytics) (1.3.0)\n",
            "Requirement already satisfied: six>=1.5 in /usr/local/lib/python3.10/dist-packages (from python-dateutil>=2.7->matplotlib>=3.3.0->ultralytics) (1.16.0)\n",
            "Requirement already satisfied: MarkupSafe>=2.0 in /usr/local/lib/python3.10/dist-packages (from jinja2->torch>=1.8.0->ultralytics) (3.0.2)\n",
            "Downloading ultralytics-8.3.23-py3-none-any.whl (877 kB)\n",
            "\u001b[2K   \u001b[90m━━━━━━━━━━━━━━━━━━━━━━━━━━━━━━━━━━━━━━━━\u001b[0m \u001b[32m877.6/877.6 kB\u001b[0m \u001b[31m20.7 MB/s\u001b[0m eta \u001b[36m0:00:00\u001b[0m\n",
            "\u001b[?25hDownloading ultralytics_thop-2.0.9-py3-none-any.whl (26 kB)\n",
            "Installing collected packages: ultralytics-thop, ultralytics\n",
            "Successfully installed ultralytics-8.3.23 ultralytics-thop-2.0.9\n"
          ]
        }
      ]
    },
    {
      "cell_type": "code",
      "source": [
        "import ultralytics\n",
        "ultralytics.checks()"
      ],
      "metadata": {
        "colab": {
          "base_uri": "https://localhost:8080/"
        },
        "id": "M8r7aMuYnJih",
        "outputId": "1ee31381-e41f-4127-81a5-0624e83656ac"
      },
      "execution_count": 4,
      "outputs": [
        {
          "output_type": "stream",
          "name": "stdout",
          "text": [
            "Ultralytics 8.3.23 🚀 Python-3.10.12 torch-2.5.0+cu121 CUDA:0 (Tesla T4, 15102MiB)\n",
            "Setup complete ✅ (2 CPUs, 12.7 GB RAM, 32.3/112.6 GB disk)\n"
          ]
        }
      ]
    },
    {
      "cell_type": "code",
      "source": [
        "import os\n",
        "import glob\n",
        "from ultralytics import YOLO\n",
        "from IPython.display import Image, display"
      ],
      "metadata": {
        "id": "q9FuH4qlnUmd"
      },
      "execution_count": 5,
      "outputs": []
    },
    {
      "cell_type": "code",
      "source": [
        "import zipfile\n",
        "import os\n",
        "\n",
        "# Path to the zip file\n",
        "zip_path = '/content/driver/MyDrive/projects/epics100/exe/test2.zip'\n",
        "\n",
        "# Destination folder where you want to unzip the files\n",
        "output_dir = '/content/driver/MyDrive/projects/epics100/exe'\n",
        "\n",
        "# Unzip the file\n",
        "with zipfile.ZipFile(zip_path, 'r') as zip_ref:\n",
        "    zip_ref.extractall(output_dir)\n",
        "\n",
        "print(\"Unzipping completed!\")"
      ],
      "metadata": {
        "colab": {
          "base_uri": "https://localhost:8080/"
        },
        "id": "2DuR5cJ0oYSa",
        "outputId": "b8eb534d-d4f9-444c-b04c-fc08a40e0d8f"
      },
      "execution_count": null,
      "outputs": [
        {
          "output_type": "stream",
          "name": "stdout",
          "text": [
            "Unzipping completed!\n"
          ]
        }
      ]
    },
    {
      "cell_type": "code",
      "source": [
        "%cd /content/driver/MyDrive/projects/epics100\n",
        "!ls"
      ],
      "metadata": {
        "colab": {
          "base_uri": "https://localhost:8080/"
        },
        "id": "22ljQAhaqRHm",
        "outputId": "623008fe-1b81-4f83-adb2-daca76fa3bb9"
      },
      "execution_count": 6,
      "outputs": [
        {
          "output_type": "stream",
          "name": "stdout",
          "text": [
            "/content/driver/MyDrive/projects/epics100\n",
            "calibration_image_sample_data_20x128x128x3_float32.npy\texe   yolo11n.pt\n",
            "custom.yaml\t\t\t\t\t\truns  yolov8n.pt\n"
          ]
        }
      ]
    },
    {
      "cell_type": "code",
      "source": [
        "!yolo task=detect mode=train model=yolov8n.pt data=custom.yaml epochs=20 imgsz=640"
      ],
      "metadata": {
        "colab": {
          "base_uri": "https://localhost:8080/"
        },
        "id": "wBVcRQO9ncla",
        "outputId": "65fdd8cc-68f0-4edf-d1ce-f2b31923d765",
        "collapsed": true
      },
      "execution_count": null,
      "outputs": [
        {
          "output_type": "stream",
          "name": "stdout",
          "text": [
            "Ultralytics 8.3.23 🚀 Python-3.10.12 torch-2.5.0+cu121 CUDA:0 (Tesla T4, 15102MiB)\n",
            "\u001b[34m\u001b[1mengine/trainer: \u001b[0mtask=detect, mode=train, model=yolov8n.pt, data=custom.yaml, epochs=20, time=None, patience=100, batch=16, imgsz=640, save=True, save_period=-1, cache=False, device=None, workers=8, project=None, name=train2, exist_ok=False, pretrained=True, optimizer=auto, verbose=True, seed=0, deterministic=True, single_cls=False, rect=False, cos_lr=False, close_mosaic=10, resume=False, amp=True, fraction=1.0, profile=False, freeze=None, multi_scale=False, overlap_mask=True, mask_ratio=4, dropout=0.0, val=True, split=val, save_json=False, save_hybrid=False, conf=None, iou=0.7, max_det=300, half=False, dnn=False, plots=True, source=None, vid_stride=1, stream_buffer=False, visualize=False, augment=False, agnostic_nms=False, classes=None, retina_masks=False, embed=None, show=False, save_frames=False, save_txt=False, save_conf=False, save_crop=False, show_labels=True, show_conf=True, show_boxes=True, line_width=None, format=torchscript, keras=False, optimize=False, int8=False, dynamic=False, simplify=True, opset=None, workspace=4, nms=False, lr0=0.01, lrf=0.01, momentum=0.937, weight_decay=0.0005, warmup_epochs=3.0, warmup_momentum=0.8, warmup_bias_lr=0.1, box=7.5, cls=0.5, dfl=1.5, pose=12.0, kobj=1.0, label_smoothing=0.0, nbs=64, hsv_h=0.015, hsv_s=0.7, hsv_v=0.4, degrees=0.0, translate=0.1, scale=0.5, shear=0.0, perspective=0.0, flipud=0.0, fliplr=0.5, bgr=0.0, mosaic=1.0, mixup=0.0, copy_paste=0.0, copy_paste_mode=flip, auto_augment=randaugment, erasing=0.4, crop_fraction=1.0, cfg=None, tracker=botsort.yaml, save_dir=runs/detect/train2\n",
            "Downloading https://ultralytics.com/assets/Arial.ttf to '/root/.config/Ultralytics/Arial.ttf'...\n",
            "100% 755k/755k [00:00<00:00, 26.9MB/s]\n",
            "Overriding model.yaml nc=80 with nc=10\n",
            "\n",
            "                   from  n    params  module                                       arguments                     \n",
            "  0                  -1  1       464  ultralytics.nn.modules.conv.Conv             [3, 16, 3, 2]                 \n",
            "  1                  -1  1      4672  ultralytics.nn.modules.conv.Conv             [16, 32, 3, 2]                \n",
            "  2                  -1  1      7360  ultralytics.nn.modules.block.C2f             [32, 32, 1, True]             \n",
            "  3                  -1  1     18560  ultralytics.nn.modules.conv.Conv             [32, 64, 3, 2]                \n",
            "  4                  -1  2     49664  ultralytics.nn.modules.block.C2f             [64, 64, 2, True]             \n",
            "  5                  -1  1     73984  ultralytics.nn.modules.conv.Conv             [64, 128, 3, 2]               \n",
            "  6                  -1  2    197632  ultralytics.nn.modules.block.C2f             [128, 128, 2, True]           \n",
            "  7                  -1  1    295424  ultralytics.nn.modules.conv.Conv             [128, 256, 3, 2]              \n",
            "  8                  -1  1    460288  ultralytics.nn.modules.block.C2f             [256, 256, 1, True]           \n",
            "  9                  -1  1    164608  ultralytics.nn.modules.block.SPPF            [256, 256, 5]                 \n",
            " 10                  -1  1         0  torch.nn.modules.upsampling.Upsample         [None, 2, 'nearest']          \n",
            " 11             [-1, 6]  1         0  ultralytics.nn.modules.conv.Concat           [1]                           \n",
            " 12                  -1  1    148224  ultralytics.nn.modules.block.C2f             [384, 128, 1]                 \n",
            " 13                  -1  1         0  torch.nn.modules.upsampling.Upsample         [None, 2, 'nearest']          \n",
            " 14             [-1, 4]  1         0  ultralytics.nn.modules.conv.Concat           [1]                           \n",
            " 15                  -1  1     37248  ultralytics.nn.modules.block.C2f             [192, 64, 1]                  \n",
            " 16                  -1  1     36992  ultralytics.nn.modules.conv.Conv             [64, 64, 3, 2]                \n",
            " 17            [-1, 12]  1         0  ultralytics.nn.modules.conv.Concat           [1]                           \n",
            " 18                  -1  1    123648  ultralytics.nn.modules.block.C2f             [192, 128, 1]                 \n",
            " 19                  -1  1    147712  ultralytics.nn.modules.conv.Conv             [128, 128, 3, 2]              \n",
            " 20             [-1, 9]  1         0  ultralytics.nn.modules.conv.Concat           [1]                           \n",
            " 21                  -1  1    493056  ultralytics.nn.modules.block.C2f             [384, 256, 1]                 \n",
            " 22        [15, 18, 21]  1    753262  ultralytics.nn.modules.head.Detect           [10, [64, 128, 256]]          \n",
            "Model summary: 225 layers, 3,012,798 parameters, 3,012,782 gradients, 8.2 GFLOPs\n",
            "\n",
            "Transferred 319/355 items from pretrained weights\n",
            "\u001b[34m\u001b[1mTensorBoard: \u001b[0mStart with 'tensorboard --logdir runs/detect/train2', view at http://localhost:6006/\n",
            "Freezing layer 'model.22.dfl.conv.weight'\n",
            "\u001b[34m\u001b[1mAMP: \u001b[0mrunning Automatic Mixed Precision (AMP) checks...\n",
            "Downloading https://github.com/ultralytics/assets/releases/download/v8.3.0/yolo11n.pt to 'yolo11n.pt'...\n",
            "100% 5.35M/5.35M [00:00<00:00, 104MB/s]\n",
            "\u001b[34m\u001b[1mAMP: \u001b[0mchecks passed ✅\n",
            "\u001b[34m\u001b[1mtrain: \u001b[0mScanning /content/driver/MyDrive/projects/epics100/exe/train/labels.cache... 1148 images, 0 backgrounds, 0 corrupt: 100% 1148/1148 [00:00<?, ?it/s]\n",
            "\u001b[34m\u001b[1mtrain: \u001b[0mWARNING ⚠️ /content/driver/MyDrive/projects/epics100/exe/train/images/054.jpg: corrupt JPEG restored and saved\n",
            "/usr/local/lib/python3.10/dist-packages/albumentations/__init__.py:13: UserWarning: A new version of Albumentations is available: 1.4.20 (you have 1.4.15). Upgrade using: pip install -U albumentations. To disable automatic update checks, set the environment variable NO_ALBUMENTATIONS_UPDATE to 1.\n",
            "  check_for_updates()\n",
            "\u001b[34m\u001b[1malbumentations: \u001b[0mBlur(p=0.01, blur_limit=(3, 7)), MedianBlur(p=0.01, blur_limit=(3, 7)), ToGray(p=0.01, num_output_channels=3, method='weighted_average'), CLAHE(p=0.01, clip_limit=(1, 4.0), tile_grid_size=(8, 8))\n",
            "\u001b[34m\u001b[1mval: \u001b[0mScanning /content/driver/MyDrive/projects/epics100/exe/val/labels.cache... 287 images, 0 backgrounds, 0 corrupt: 100% 287/287 [00:00<?, ?it/s]\n",
            "Plotting labels to runs/detect/train2/labels.jpg... \n",
            "\u001b[34m\u001b[1moptimizer:\u001b[0m 'optimizer=auto' found, ignoring 'lr0=0.01' and 'momentum=0.937' and determining best 'optimizer', 'lr0' and 'momentum' automatically... \n",
            "\u001b[34m\u001b[1moptimizer:\u001b[0m AdamW(lr=0.000714, momentum=0.9) with parameter groups 57 weight(decay=0.0), 64 weight(decay=0.0005), 63 bias(decay=0.0)\n",
            "\u001b[34m\u001b[1mTensorBoard: \u001b[0mmodel graph visualization added ✅\n",
            "Image sizes 640 train, 640 val\n",
            "Using 2 dataloader workers\n",
            "Logging results to \u001b[1mruns/detect/train2\u001b[0m\n",
            "Starting training for 20 epochs...\n",
            "\n",
            "      Epoch    GPU_mem   box_loss   cls_loss   dfl_loss  Instances       Size\n",
            "       1/20      2.27G      1.333       3.47      1.726         33        640: 100% 72/72 [03:02<00:00,  2.53s/it]\n",
            "                 Class     Images  Instances      Box(P          R      mAP50  mAP50-95): 100% 9/9 [00:05<00:00,  1.59it/s]\n",
            "                   all        287        414       0.86      0.137      0.237       0.12\n",
            "\n",
            "      Epoch    GPU_mem   box_loss   cls_loss   dfl_loss  Instances       Size\n",
            "       2/20      2.19G      1.322      2.529      1.646         57        640: 100% 72/72 [00:32<00:00,  2.18it/s]\n",
            "                 Class     Images  Instances      Box(P          R      mAP50  mAP50-95): 100% 9/9 [00:06<00:00,  1.30it/s]\n",
            "                   all        287        414      0.661      0.368      0.472       0.23\n",
            "\n",
            "      Epoch    GPU_mem   box_loss   cls_loss   dfl_loss  Instances       Size\n",
            "       3/20      2.27G      1.331      2.292      1.622         41        640: 100% 72/72 [00:38<00:00,  1.89it/s]\n",
            "                 Class     Images  Instances      Box(P          R      mAP50  mAP50-95): 100% 9/9 [00:03<00:00,  2.26it/s]\n",
            "                   all        287        414      0.477       0.42      0.421       0.22\n",
            "\n",
            "      Epoch    GPU_mem   box_loss   cls_loss   dfl_loss  Instances       Size\n",
            "       4/20      2.25G       1.33      2.124      1.621         45        640: 100% 72/72 [00:34<00:00,  2.12it/s]\n",
            "                 Class     Images  Instances      Box(P          R      mAP50  mAP50-95): 100% 9/9 [00:04<00:00,  1.89it/s]\n",
            "                   all        287        414      0.436      0.563      0.474      0.231\n",
            "\n",
            "      Epoch    GPU_mem   box_loss   cls_loss   dfl_loss  Instances       Size\n",
            "       5/20      2.27G      1.344       2.06      1.616         42        640: 100% 72/72 [00:33<00:00,  2.17it/s]\n",
            "                 Class     Images  Instances      Box(P          R      mAP50  mAP50-95): 100% 9/9 [00:06<00:00,  1.36it/s]\n",
            "                   all        287        414      0.385      0.544      0.478      0.248\n",
            "\n",
            "      Epoch    GPU_mem   box_loss   cls_loss   dfl_loss  Instances       Size\n",
            "       6/20      2.28G        1.3      1.895      1.594         42        640: 100% 72/72 [00:34<00:00,  2.09it/s]\n",
            "                 Class     Images  Instances      Box(P          R      mAP50  mAP50-95): 100% 9/9 [00:03<00:00,  2.44it/s]\n",
            "                   all        287        414      0.652      0.503       0.58      0.307\n",
            "\n",
            "      Epoch    GPU_mem   box_loss   cls_loss   dfl_loss  Instances       Size\n",
            "       7/20      2.25G      1.288      1.819      1.562         37        640: 100% 72/72 [00:34<00:00,  2.10it/s]\n",
            "                 Class     Images  Instances      Box(P          R      mAP50  mAP50-95): 100% 9/9 [00:03<00:00,  2.36it/s]\n",
            "                   all        287        414      0.601       0.58      0.622       0.36\n",
            "\n",
            "      Epoch    GPU_mem   box_loss   cls_loss   dfl_loss  Instances       Size\n",
            "       8/20      2.26G      1.255      1.765      1.548         52        640: 100% 72/72 [00:37<00:00,  1.91it/s]\n",
            "                 Class     Images  Instances      Box(P          R      mAP50  mAP50-95): 100% 9/9 [00:03<00:00,  2.31it/s]\n",
            "                   all        287        414      0.666      0.581      0.637      0.345\n",
            "\n",
            "      Epoch    GPU_mem   box_loss   cls_loss   dfl_loss  Instances       Size\n",
            "       9/20      2.26G      1.237      1.658      1.523         36        640: 100% 72/72 [00:32<00:00,  2.20it/s]\n",
            "                 Class     Images  Instances      Box(P          R      mAP50  mAP50-95): 100% 9/9 [00:06<00:00,  1.29it/s]\n",
            "                   all        287        414      0.668      0.613      0.633      0.365\n",
            "\n",
            "      Epoch    GPU_mem   box_loss   cls_loss   dfl_loss  Instances       Size\n",
            "      10/20      2.27G      1.225      1.599      1.515         43        640: 100% 72/72 [00:33<00:00,  2.17it/s]\n",
            "                 Class     Images  Instances      Box(P          R      mAP50  mAP50-95): 100% 9/9 [00:04<00:00,  1.82it/s]\n",
            "                   all        287        414      0.596      0.693      0.637      0.364\n",
            "Closing dataloader mosaic\n",
            "\u001b[34m\u001b[1malbumentations: \u001b[0mBlur(p=0.01, blur_limit=(3, 7)), MedianBlur(p=0.01, blur_limit=(3, 7)), ToGray(p=0.01, num_output_channels=3, method='weighted_average'), CLAHE(p=0.01, clip_limit=(1, 4.0), tile_grid_size=(8, 8))\n",
            "\n",
            "      Epoch    GPU_mem   box_loss   cls_loss   dfl_loss  Instances       Size\n",
            "      11/20      2.25G       1.25       1.77      1.661         20        640: 100% 72/72 [00:36<00:00,  1.96it/s]\n",
            "                 Class     Images  Instances      Box(P          R      mAP50  mAP50-95): 100% 9/9 [00:03<00:00,  2.46it/s]\n",
            "                   all        287        414      0.647        0.6      0.644      0.383\n",
            "\n",
            "      Epoch    GPU_mem   box_loss   cls_loss   dfl_loss  Instances       Size\n",
            "      12/20      2.25G       1.19        1.6        1.6         15        640: 100% 72/72 [00:33<00:00,  2.15it/s]\n",
            "                 Class     Images  Instances      Box(P          R      mAP50  mAP50-95): 100% 9/9 [00:03<00:00,  2.36it/s]\n",
            "                   all        287        414      0.676      0.625      0.685      0.412\n",
            "\n",
            "      Epoch    GPU_mem   box_loss   cls_loss   dfl_loss  Instances       Size\n",
            "      13/20      2.25G       1.18      1.493      1.592         14        640: 100% 72/72 [00:36<00:00,  1.97it/s]\n",
            "                 Class     Images  Instances      Box(P          R      mAP50  mAP50-95): 100% 9/9 [00:05<00:00,  1.73it/s]\n",
            "                   all        287        414      0.579      0.689      0.682      0.405\n",
            "\n",
            "      Epoch    GPU_mem   box_loss   cls_loss   dfl_loss  Instances       Size\n",
            "      14/20      2.25G      1.136      1.387      1.546         21        640: 100% 72/72 [00:32<00:00,  2.23it/s]\n",
            "                 Class     Images  Instances      Box(P          R      mAP50  mAP50-95): 100% 9/9 [00:06<00:00,  1.39it/s]\n",
            "                   all        287        414      0.668      0.673      0.694       0.42\n",
            "\n",
            "      Epoch    GPU_mem   box_loss   cls_loss   dfl_loss  Instances       Size\n",
            "      15/20      2.25G      1.116      1.318       1.53         18        640: 100% 72/72 [00:33<00:00,  2.15it/s]\n",
            "                 Class     Images  Instances      Box(P          R      mAP50  mAP50-95): 100% 9/9 [00:04<00:00,  1.89it/s]\n",
            "                   all        287        414      0.679        0.7      0.707      0.419\n",
            "\n",
            "      Epoch    GPU_mem   box_loss   cls_loss   dfl_loss  Instances       Size\n",
            "      16/20      2.25G      1.086      1.274      1.502         16        640: 100% 72/72 [00:34<00:00,  2.10it/s]\n",
            "                 Class     Images  Instances      Box(P          R      mAP50  mAP50-95): 100% 9/9 [00:03<00:00,  2.53it/s]\n",
            "                   all        287        414      0.692      0.655      0.689       0.41\n",
            "\n",
            "      Epoch    GPU_mem   box_loss   cls_loss   dfl_loss  Instances       Size\n",
            "      17/20      2.25G      1.053      1.215      1.465         18        640: 100% 72/72 [00:34<00:00,  2.09it/s]\n",
            "                 Class     Images  Instances      Box(P          R      mAP50  mAP50-95): 100% 9/9 [00:03<00:00,  2.54it/s]\n",
            "                   all        287        414      0.719      0.683      0.732      0.445\n",
            "\n",
            "      Epoch    GPU_mem   box_loss   cls_loss   dfl_loss  Instances       Size\n",
            "      18/20      2.25G      1.044      1.144      1.467         18        640: 100% 72/72 [00:37<00:00,  1.94it/s]\n",
            "                 Class     Images  Instances      Box(P          R      mAP50  mAP50-95): 100% 9/9 [00:04<00:00,  2.08it/s]\n",
            "                   all        287        414      0.738       0.68      0.721      0.442\n",
            "\n",
            "      Epoch    GPU_mem   box_loss   cls_loss   dfl_loss  Instances       Size\n",
            "      19/20      2.25G      1.012        1.1      1.433         18        640: 100% 72/72 [00:33<00:00,  2.16it/s]\n",
            "                 Class     Images  Instances      Box(P          R      mAP50  mAP50-95): 100% 9/9 [00:06<00:00,  1.35it/s]\n",
            "                   all        287        414       0.69      0.746      0.723      0.445\n",
            "\n",
            "      Epoch    GPU_mem   box_loss   cls_loss   dfl_loss  Instances       Size\n",
            "      20/20      2.25G     0.9864      1.075       1.43         16        640: 100% 72/72 [00:31<00:00,  2.29it/s]\n",
            "                 Class     Images  Instances      Box(P          R      mAP50  mAP50-95): 100% 9/9 [00:06<00:00,  1.38it/s]\n",
            "                   all        287        414      0.681      0.704      0.723      0.448\n",
            "\n",
            "20 epochs completed in 0.272 hours.\n",
            "Optimizer stripped from runs/detect/train2/weights/last.pt, 6.2MB\n",
            "Optimizer stripped from runs/detect/train2/weights/best.pt, 6.2MB\n",
            "\n",
            "Validating runs/detect/train2/weights/best.pt...\n",
            "Ultralytics 8.3.23 🚀 Python-3.10.12 torch-2.5.0+cu121 CUDA:0 (Tesla T4, 15102MiB)\n",
            "Model summary (fused): 168 layers, 3,007,598 parameters, 0 gradients, 8.1 GFLOPs\n",
            "                 Class     Images  Instances      Box(P          R      mAP50  mAP50-95): 100% 9/9 [00:04<00:00,  1.83it/s]\n",
            "                   all        287        414      0.684      0.707      0.723      0.448\n",
            "               Buffalo         31         62      0.839      0.839      0.851      0.556\n",
            "              Cheetahs         20         26      0.523      0.654      0.512      0.267\n",
            "                  Deer         40         50      0.759      0.757      0.803      0.483\n",
            "              Elephant         35         62      0.633      0.613      0.664      0.384\n",
            "                   Fox         33         40      0.815      0.825      0.867      0.574\n",
            "               Jaguars         10         10      0.234        0.3      0.357       0.19\n",
            "                  Lion         38         48       0.73      0.787      0.809       0.47\n",
            "                 Panda         12         18      0.892      0.611      0.699      0.487\n",
            "                 Tiger         35         41      0.813      0.878      0.908      0.596\n",
            "                 Zebra         34         57      0.601      0.807       0.76       0.47\n",
            "Speed: 0.3ms preprocess, 2.2ms inference, 0.0ms loss, 4.6ms postprocess per image\n",
            "Results saved to \u001b[1mruns/detect/train2\u001b[0m\n",
            "💡 Learn more at https://docs.ultralytics.com/modes/train\n"
          ]
        }
      ]
    },
    {
      "cell_type": "code",
      "source": [
        "!ls exe/val/images"
      ],
      "metadata": {
        "colab": {
          "base_uri": "https://localhost:8080/"
        },
        "id": "pu-b1PbX6ToS",
        "outputId": "d6384e4d-1f82-47a4-c21d-7d2d84ac35c7"
      },
      "execution_count": 15,
      "outputs": [
        {
          "output_type": "stream",
          "name": "stdout",
          "text": [
            " 004.jpg\t        201.jpg\t\t       8564e2649c55b440.jpg\n",
            " 007.jpg\t        21c79fbb40a92ee6.jpg   87466bb270c7c97c.jpg\n",
            " 00f781ce48de2bda.jpg   23acd8c211502b38.jpg   878deb499b622247.jpg\n",
            " 0107395b9550040b.jpg   241.jpg\t\t       87a8890d7d33a558.jpg\n",
            " 0115391778aeca25.jpg   2442d5199bdca262.jpg   885c69bf834c0290.jpg\n",
            " 0121f2156bef75d7.jpg   24652f390adab0ff.jpg   8884144c9fe8a769.jpg\n",
            " 016ef3c82183e420.jpg   24c897202aa6473b.jpg   88.jpg\n",
            " 018223ca6996812d.jpg   2508f841a0a2ecdb.jpg   890aa5d11d7e0186.jpg\n",
            " 022.jpg\t        25221a1eb60aaf34.jpg   8945595e8024ad0c.jpg\n",
            " 024760bfa3f4aec2.jpg   262379cfa939367e.jpg   89fad3ed34ca13a1.jpg\n",
            " 025ee4909cb7e97e.jpg   26d8d961177e64e3.jpg   8a8552bf352aee91.jpg\n",
            " 026259ac70a1702d.jpg   27752dd5e95e1769.jpg   8ee06a8365716a74.jpg\n",
            " 026.jpg\t        27b6388dc23572a9.jpg   902e0b14ba5188b2.jpg\n",
            " 027.jpg\t        2842be8d4362a102.jpg   907ba2eb3a738146.jpg\n",
            " 02d1be93414c4201.jpg   284d750faa30c559.jpg   91.jpg\n",
            " 0338a7c30586ba54.jpg   28cd82b6ffaf4f82.jpg   93a611c5a4c2d17e.jpg\n",
            " 038.jpg\t        295fa8cbdc30ba10.jpg   9444fb32f8871ce7.jpg\n",
            " 042e46ae1c186e8a.jpg   2989bbce8e68fa81.jpg   96cbe99c0f39c169.jpg\n",
            " 042ec2fb6dc546a5.jpg   2b5f85c29ca07571.jpg   96.jpg\n",
            " 043e8e352abc2ccc.jpg   2b6cc1860f17699a.jpg   97cc5c9a3970b37d.jpg\n",
            " 043.jpg\t        2dac30baedc552a5.jpg   99.jpg\n",
            " 045.jpg\t        2ee9e2b3610dad2e.jpg   9a461d5ddde63379.jpg\n",
            " 04972a6babe6f5d8.jpg   2f0be90790ec6040.jpg   9abcf19a75785764.jpg\n",
            " 053da482bc4d5f8c.jpg   2fd43212cbd1eed9.jpg   9b7036d62a4ba7b5.jpg\n",
            " 053.jpg\t        30e83beb302bb5f7.jpg   9bfb37490e1056a6.jpg\n",
            " 058.jpg\t        31ccc29fc66e8415.jpg   9c61e50af3f69b55.jpg\n",
            " 059d354557a3dce0.jpg   33498124d9d6d090.jpg   9cb2fe765424a03b.jpg\n",
            " 05aa6bf6a760642e.jpg   33c9857d5feba986.jpg   9ebcecc7e71d894f.jpg\n",
            " 05ca9ad0b8d8a818.jpg   33d1926311be80d3.jpg   9f01fa5125c7d438.jpg\n",
            " 05d29f47032331e5.jpg   347af01f8aa006db.jpg   9f2c062429145a17.jpg\n",
            " 060.jpg\t        3481585399b3af45.jpg   a0aad606deaf3287.jpg\n",
            " 062db5cb91f92dfc.jpg   34a6aa17016e3188.jpg   a1ad89492bf8700a.jpg\n",
            " 064.jpg\t        3626b30ca1ebf674.jpg   a33704d687da856f.jpg\n",
            " 067.jpg\t        387334f251867b5f.jpg   a504df0adb0ab26c.jpg\n",
            " 06cf806292981f43.jpg   39c2e8ff892ca637.jpg   a57278e8314027c8.jpg\n",
            " 06d29b1f55dffe75.jpg   3af7d8df82136987.jpg   a5fade4847f797e4.jpg\n",
            " 06dcda7babea0933.jpg   3b1037de52039133.jpg   a7497925fe5d3486.jpg\n",
            " 0706b380bc6df555.jpg   3debda828eb3cead.jpg   a7ec668039430f1b.jpg\n",
            " 070.jpg\t        3e2ed8b93429719a.jpg   a966b561b9ff2ad1.jpg\n",
            " 0752a8ba214ae2dd.jpg   3ec18e5d533ad07f.jpg   a9ffd082c1ad25e2.jpg\n",
            " 076.jpg\t        3ffe0afe23061f17.jpg   abd9a5b02c93eb1a.jpg\n",
            " 077.jpg\t        400264e117b62e6c.jpg   adaa5c69e722ba93.jpg\n",
            " 080.jpg\t        42468958f3fb5318.jpg   ae851c3ec59a5813.jpg\n",
            " 082dc957e408ba17.jpg   426df9f4314e78e8.jpg   aedcb7ef574e86e2.jpg\n",
            " 084599bb84e38f34.jpg   427027445624f9d7.jpg   b054ab01400d4408.jpg\n",
            " 086.jpg\t        4485c8a6009f67f0.jpg   b27fc956cecd8466.jpg\n",
            " 091f8cbe32ba5523.jpg   47e5f8e93f861a31.jpg   b3d673b2e7f0379e.jpg\n",
            " 091.jpg\t        481c1a8cb4b466df.jpg   b425c992c4b89cde.jpg\n",
            " 0920d7dbdc425032.jpg   4d8ec5427f7a8eff.jpg   b61fde3e1f5f77cb.jpg\n",
            " 09a1d6c384764e27.jpg   4e7c0a3195e84876.jpg   b676737743d33ddc.jpg\n",
            " 09b1a1ce05216138.jpg   4f17520e02f45b58.jpg   be44e8f9640eb11d.jpg\n",
            " 0bf2ce2142515aa6.jpg   4fa47ce9a883b913.jpg   bea43537fab96e66.jpg\n",
            " 0c024331927586b8.jpg   511aa4fa584803b3.jpg   beb59552074f70fc.jpg\n",
            " 0d2f18b7f1e839cb.jpg   527335f58c844fd3.jpg   c431ebd7b25f89dc.jpg\n",
            " 0dbbe46dc223bb9c.jpg   5442dd27219ac830.jpg   c469db664158c4aa.jpg\n",
            " 0e6ccd7b3fb0b219.jpg   58f7db54aed0030c.jpg   c687ede0bff60196.jpg\n",
            " 0e918a593237227e.jpg   5b4c8d273bd8cf82.jpg   ca2e9812a717b9b4.jpg\n",
            " 102.jpg\t        5b5e5159b5e864ff.jpg   ca7e18d4464d2d2c.jpg\n",
            " 10e513f83230fe4b.jpg   5c52a9fc6ec207f1.jpg   cabaa4549910bf91.jpg\n",
            " 1156515b1c0490fe.jpg   5cc23dede717a4d3.jpg   ccaa29e7bf503fa3.jpg\n",
            " 119.jpg\t        5eff1a5a426f47d1.jpg   cfa3b8aa26063205.jpg\n",
            " 1210d1a6936232bf.jpg   601bc5f390660779.jpg   d1115e74b7be05ba.jpg\n",
            " 123.jpg\t        60.jpg\t\t       d26c93033b3f47d0.jpg\n",
            " 124f18f16a8902af.jpg   621554a236114e55.jpg   d593b3a9e8221777.jpg\n",
            " 125.jpg\t        63566ad7285d1766.jpg   d8ed0baea6db6b72.jpg\n",
            " 128.jpg\t        657b4f6a95dd04d1.jpg   d93c44ab770c8a8e.jpg\n",
            " 12a8a7d854cc87e8.jpg   6752ad0ae33685f9.jpg   da16b12271a0f38b.jpg\n",
            " 134.jpg\t        68dedbe44dd432ae.jpg   da22a4135b41ec7a.jpg\n",
            " 135.jpg\t        6970ecd80b471527.jpg   db21d2f3774862b0.jpg\n",
            " 143.jpg\t        6be382562ee5c198.jpg   dbc528b078c29ea1.jpg\n",
            " 145.jpg\t        6c649311971348bc.jpg   dc60f8e75d4e4668.jpg\n",
            " 1512b780c970baa7.jpg   6cc23d1401c3a738.jpg   dd9109d5f9bc0bef.jpg\n",
            " 154b395203a555ec.jpg   6df1c79a88237d15.jpg   df16f10ddca78407.jpg\n",
            " 154bd66063cc6807.jpg   6e1508072b030a87.jpg   dfd186ca2caade13.jpg\n",
            " 154.jpg\t        70579db14b07f05d.jpg   e265873cd2557e94.jpg\n",
            " 156.jpg\t        71cca3441f253ee6.jpg   e81b747184fa3c98.jpg\n",
            " 157f13d25428d609.jpg   724451d0f8b6f7ac.jpg   e847bf38b736ab5b.jpg\n",
            " 158.jpg\t        727aed2006f35aad.jpg   ea200707630fa1c0.jpg\n",
            " 165.jpg\t        7309b815652a40ab.jpg   ea563f473d89e625.jpg\n",
            " 175.jpg\t        75523a140e02cf80.jpg   eb04489a00c9c43e.jpg\n",
            " 178.jpg\t        76b341ae9b9b29fe.jpg   ecaa384730f147de.jpg\n",
            " 179e971a7534f7cb.jpg   775e4eca5bb1bce0.jpg   ef9e9403c69a9f65.jpg\n",
            " 17ae168666e01588.jpg   777ae6cc886b90a3.jpg   efdfdbf3b3218d77.jpg\n",
            " 18249c208d9ec665.jpg   7830799614904d9b.jpg   f18af006a18395de.jpg\n",
            " 187.jpg\t        783b5541c82b80a8.jpg   f363ae57a09abc0f.jpg\n",
            " 1880576823018b60.jpg   784f8a7863a95ff9.jpg   f6ff44677fa59c40.jpg\n",
            " 188.jpg\t        78e844d60a48d727.jpg   f7a115286452670f.jpg\n",
            " 197.jpg\t        796faf52ae180751.jpg   f8958a678cb30004.jpg\n",
            " 19ad96995792d1f4.jpg   7d818fd3073c7be0.jpg   f8cc6a2117eeae97.jpg\n",
            " 1ae5ecdd8ed4e7e2.jpg   7d910b9e81fae34f.jpg   fb2fc22e1e8d94b7.jpg\n",
            " 1b0ce31951048765.jpg   7e10c855e8d4ca29.jpg   fbde545860c21b29.jpg\n",
            " 1c92f5c6b9330b54.jpg   7e53a765580dbd1f.jpg   fc7dbfdc577eaf2b.jpg\n",
            " 1e13ddd6c977fff8.jpg   800226a3e0572c7b.jpg   ffaa7d8efdd5c1ab.jpg\n",
            " 1ec4dfe656d1b0c1.jpg   82ce54b03fb131d8.jpg  'images - 2020-10-16T121201.210.jpg'\n",
            " 1f8d770f32fe53c4.jpg   84e2807651377c2e.jpg  'images - 2020-10-16T121201.986.jpg'\n",
            " 1fcfc4881860c925.jpg   8525f4bace7c6046.jpg\n"
          ]
        }
      ]
    },
    {
      "cell_type": "code",
      "source": [
        "!yolo task=detect mode=val model=runs/detect/train2/weights/best.pt data=custom.yaml split=val"
      ],
      "metadata": {
        "id": "_SNUk1fZzsoO",
        "colab": {
          "base_uri": "https://localhost:8080/"
        },
        "outputId": "2df21565-9702-4f98-d082-fdc8599c3eaa"
      },
      "execution_count": 17,
      "outputs": [
        {
          "output_type": "stream",
          "name": "stdout",
          "text": [
            "Ultralytics 8.3.23 🚀 Python-3.10.12 torch-2.5.0+cu121 CUDA:0 (Tesla T4, 15102MiB)\n",
            "Model summary (fused): 168 layers, 3,007,598 parameters, 0 gradients, 8.1 GFLOPs\n",
            "\u001b[34m\u001b[1mval: \u001b[0mScanning /content/driver/MyDrive/projects/epics100/exe/val/labels.cache... 287 images, 0 backgrounds, 0 corrupt: 100% 287/287 [00:00<?, ?it/s]\n",
            "                 Class     Images  Instances      Box(P          R      mAP50  mAP50-95): 100% 18/18 [00:09<00:00,  1.90it/s]\n",
            "                   all        287        414       0.68      0.704      0.718      0.445\n",
            "               Buffalo         31         62      0.854      0.851      0.852      0.549\n",
            "              Cheetahs         20         26      0.524      0.654      0.499      0.264\n",
            "                  Deer         40         50      0.742       0.74      0.803      0.486\n",
            "              Elephant         35         62      0.629      0.597      0.677       0.39\n",
            "                   Fox         33         40      0.793      0.825      0.862      0.574\n",
            "               Jaguars         10         10      0.233        0.3      0.345      0.181\n",
            "                  Lion         38         48      0.714      0.781      0.809      0.472\n",
            "                 Panda         12         18      0.893      0.611      0.698      0.478\n",
            "                 Tiger         35         41      0.828      0.878      0.911      0.601\n",
            "                 Zebra         34         57      0.585      0.807      0.724      0.451\n",
            "Speed: 0.8ms preprocess, 6.0ms inference, 0.0ms loss, 5.4ms postprocess per image\n",
            "Results saved to \u001b[1mruns/detect/val2\u001b[0m\n",
            "💡 Learn more at https://docs.ultralytics.com/modes/val\n"
          ]
        }
      ]
    },
    {
      "cell_type": "code",
      "source": [
        "!yolo task=detect mode=predict model=runs/detect/train2/weights/best.pt conf=0.35 source=exe/test save=True"
      ],
      "metadata": {
        "id": "tqK77yFZz9MQ",
        "colab": {
          "base_uri": "https://localhost:8080/"
        },
        "outputId": "02e08bff-3a15-438a-924f-9f99a4f3404c"
      },
      "execution_count": null,
      "outputs": [
        {
          "output_type": "stream",
          "name": "stdout",
          "text": [
            "Ultralytics 8.3.23 🚀 Python-3.10.12 torch-2.5.0+cu121 CUDA:0 (Tesla T4, 15102MiB)\n",
            "Model summary (fused): 168 layers, 3,007,598 parameters, 0 gradients, 8.1 GFLOPs\n",
            "\n",
            "image 1/5 /content/driver/MyDrive/projects/epics100/exe/test/000f0d2fe4e5fde4.jpg: 576x640 1 Elephant, 33.1ms\n",
            "image 2/5 /content/driver/MyDrive/projects/epics100/exe/test/0a2a1e75ff15aaa9.jpg: 480x640 1 Fox, 36.5ms\n",
            "image 3/5 /content/driver/MyDrive/projects/epics100/exe/test/0e84faa486313dbd.jpg: 448x640 2 Lions, 33.7ms\n",
            "image 4/5 /content/driver/MyDrive/projects/epics100/exe/test/0fe36fb467c04d05.jpg: 448x640 2 Zebras, 6.0ms\n",
            "image 5/5 /content/driver/MyDrive/projects/epics100/exe/test/3a5144e557baea9c.jpg: 640x576 1 Deer, 33.5ms\n",
            "Speed: 2.6ms preprocess, 28.6ms inference, 117.5ms postprocess per image at shape (1, 3, 640, 576)\n",
            "Results saved to \u001b[1mruns/detect/predict\u001b[0m\n",
            "💡 Learn more at https://docs.ultralytics.com/modes/predict\n"
          ]
        }
      ]
    },
    {
      "cell_type": "code",
      "source": [],
      "metadata": {
        "id": "HtpvDHLRJ-TE"
      },
      "execution_count": null,
      "outputs": []
    },
    {
      "cell_type": "code",
      "source": [
        "!yolo export model=runs/detect/train2/weights/best.pt format=saved_model"
      ],
      "metadata": {
        "id": "tkr1AqEH0GgN",
        "colab": {
          "base_uri": "https://localhost:8080/"
        },
        "outputId": "3ee0122d-19ac-4349-b4ae-fd2feaca8061"
      },
      "execution_count": null,
      "outputs": [
        {
          "output_type": "stream",
          "name": "stdout",
          "text": [
            "Ultralytics 8.3.23 🚀 Python-3.10.12 torch-2.5.0+cu121 CPU (Intel Xeon 2.20GHz)\n",
            "Model summary (fused): 168 layers, 3,007,598 parameters, 0 gradients, 8.1 GFLOPs\n",
            "\n",
            "\u001b[34m\u001b[1mPyTorch:\u001b[0m starting from 'runs/detect/train2/weights/best.pt' with input shape (1, 3, 640, 640) BCHW and output shape(s) (1, 14, 8400) (5.9 MB)\n",
            "\u001b[31m\u001b[1mrequirements:\u001b[0m Ultralytics requirements ['sng4onnx>=1.0.1', 'onnx_graphsurgeon>=0.3.26', 'onnx>=1.12.0', 'onnx2tf>1.17.5,<=1.22.3', 'onnxslim>=0.1.31', 'tflite_support', 'onnxruntime'] not found, attempting AutoUpdate...\n",
            "Looking in indexes: https://pypi.org/simple, https://pypi.ngc.nvidia.com\n",
            "Collecting sng4onnx>=1.0.1\n",
            "  Downloading sng4onnx-1.0.4-py3-none-any.whl.metadata (4.6 kB)\n",
            "Collecting onnx_graphsurgeon>=0.3.26\n",
            "  Downloading onnx_graphsurgeon-0.5.2-py2.py3-none-any.whl.metadata (8.1 kB)\n",
            "Collecting onnx>=1.12.0\n",
            "  Downloading onnx-1.17.0-cp310-cp310-manylinux_2_17_x86_64.manylinux2014_x86_64.whl.metadata (16 kB)\n",
            "Collecting onnx2tf<=1.22.3,>1.17.5\n",
            "  Downloading onnx2tf-1.22.3-py3-none-any.whl.metadata (136 kB)\n",
            "     ━━━━━━━━━━━━━━━━━━━━━━━━━━━━━━━━━━━━━━━━ 136.6/136.6 kB 8.9 MB/s eta 0:00:00\n",
            "Collecting onnxslim>=0.1.31\n",
            "  Downloading onnxslim-0.1.35-py3-none-any.whl.metadata (3.0 kB)\n",
            "Collecting tflite_support\n",
            "  Downloading tflite_support-0.4.4-cp310-cp310-manylinux2014_x86_64.whl.metadata (2.4 kB)\n",
            "Collecting onnxruntime\n",
            "  Downloading onnxruntime-1.19.2-cp310-cp310-manylinux_2_27_x86_64.manylinux_2_28_x86_64.whl.metadata (4.5 kB)\n",
            "Requirement already satisfied: numpy in /usr/local/lib/python3.10/dist-packages (from onnx_graphsurgeon>=0.3.26) (1.26.4)\n",
            "Requirement already satisfied: protobuf>=3.20.2 in /usr/local/lib/python3.10/dist-packages (from onnx>=1.12.0) (3.20.3)\n",
            "Requirement already satisfied: sympy in /usr/local/lib/python3.10/dist-packages (from onnxslim>=0.1.31) (1.13.1)\n",
            "Requirement already satisfied: packaging in /usr/local/lib/python3.10/dist-packages (from onnxslim>=0.1.31) (24.1)\n",
            "Requirement already satisfied: absl-py>=0.7.0 in /usr/local/lib/python3.10/dist-packages (from tflite_support) (1.4.0)\n",
            "Requirement already satisfied: flatbuffers>=2.0 in /usr/local/lib/python3.10/dist-packages (from tflite_support) (24.3.25)\n",
            "Collecting sounddevice>=0.4.4 (from tflite_support)\n",
            "  Downloading sounddevice-0.5.1-py3-none-any.whl.metadata (1.4 kB)\n",
            "Collecting pybind11>=2.6.0 (from tflite_support)\n",
            "  Downloading pybind11-2.13.6-py3-none-any.whl.metadata (9.5 kB)\n",
            "Collecting coloredlogs (from onnxruntime)\n",
            "  Downloading coloredlogs-15.0.1-py2.py3-none-any.whl.metadata (12 kB)\n",
            "Requirement already satisfied: CFFI>=1.0 in /usr/local/lib/python3.10/dist-packages (from sounddevice>=0.4.4->tflite_support) (1.17.1)\n",
            "Collecting humanfriendly>=9.1 (from coloredlogs->onnxruntime)\n",
            "  Downloading humanfriendly-10.0-py2.py3-none-any.whl.metadata (9.2 kB)\n",
            "Requirement already satisfied: mpmath<1.4,>=1.1.0 in /usr/local/lib/python3.10/dist-packages (from sympy->onnxslim>=0.1.31) (1.3.0)\n",
            "Requirement already satisfied: pycparser in /usr/local/lib/python3.10/dist-packages (from CFFI>=1.0->sounddevice>=0.4.4->tflite_support) (2.22)\n",
            "Downloading sng4onnx-1.0.4-py3-none-any.whl (5.9 kB)\n",
            "Downloading onnx_graphsurgeon-0.5.2-py2.py3-none-any.whl (56 kB)\n",
            "   ━━━━━━━━━━━━━━━━━━━━━━━━━━━━━━━━━━━━━━━━ 56.4/56.4 kB 197.9 MB/s eta 0:00:00\n",
            "Downloading onnx-1.17.0-cp310-cp310-manylinux_2_17_x86_64.manylinux2014_x86_64.whl (16.0 MB)\n",
            "   ━━━━━━━━━━━━━━━━━━━━━━━━━━━━━━━━━━━━━━━━ 16.0/16.0 MB 209.8 MB/s eta 0:00:00\n",
            "Downloading onnx2tf-1.22.3-py3-none-any.whl (435 kB)\n",
            "   ━━━━━━━━━━━━━━━━━━━━━━━━━━━━━━━━━━━━━━━━ 435.0/435.0 kB 245.3 MB/s eta 0:00:00\n",
            "Downloading onnxslim-0.1.35-py3-none-any.whl (140 kB)\n",
            "   ━━━━━━━━━━━━━━━━━━━━━━━━━━━━━━━━━━━━━━━━ 140.4/140.4 kB 240.1 MB/s eta 0:00:00\n",
            "Downloading tflite_support-0.4.4-cp310-cp310-manylinux2014_x86_64.whl (60.8 MB)\n",
            "   ━━━━━━━━━━━━━━━━━━━━━━━━━━━━━━━━━━━━━━━━ 60.8/60.8 MB 192.3 MB/s eta 0:00:00\n",
            "Downloading onnxruntime-1.19.2-cp310-cp310-manylinux_2_27_x86_64.manylinux_2_28_x86_64.whl (13.2 MB)\n",
            "   ━━━━━━━━━━━━━━━━━━━━━━━━━━━━━━━━━━━━━━━━ 13.2/13.2 MB 205.6 MB/s eta 0:00:00\n",
            "Downloading pybind11-2.13.6-py3-none-any.whl (243 kB)\n",
            "   ━━━━━━━━━━━━━━━━━━━━━━━━━━━━━━━━━━━━━━━━ 243.3/243.3 kB 272.0 MB/s eta 0:00:00\n",
            "Downloading sounddevice-0.5.1-py3-none-any.whl (32 kB)\n",
            "Downloading coloredlogs-15.0.1-py2.py3-none-any.whl (46 kB)\n",
            "   ━━━━━━━━━━━━━━━━━━━━━━━━━━━━━━━━━━━━━━━━ 46.0/46.0 kB 177.9 MB/s eta 0:00:00\n",
            "Downloading humanfriendly-10.0-py2.py3-none-any.whl (86 kB)\n",
            "   ━━━━━━━━━━━━━━━━━━━━━━━━━━━━━━━━━━━━━━━━ 86.8/86.8 kB 203.0 MB/s eta 0:00:00\n",
            "Installing collected packages: sng4onnx, pybind11, onnx2tf, onnx, humanfriendly, sounddevice, onnxslim, onnx_graphsurgeon, coloredlogs, tflite_support, onnxruntime\n",
            "Successfully installed coloredlogs-15.0.1 humanfriendly-10.0 onnx-1.17.0 onnx2tf-1.22.3 onnx_graphsurgeon-0.5.2 onnxruntime-1.19.2 onnxslim-0.1.35 pybind11-2.13.6 sng4onnx-1.0.4 sounddevice-0.5.1 tflite_support-0.4.4\n",
            "\n",
            "\u001b[31m\u001b[1mrequirements:\u001b[0m AutoUpdate success ✅ 12.5s, installed 7 packages: ['sng4onnx>=1.0.1', 'onnx_graphsurgeon>=0.3.26', 'onnx>=1.12.0', 'onnx2tf>1.17.5,<=1.22.3', 'onnxslim>=0.1.31', 'tflite_support', 'onnxruntime']\n",
            "\u001b[31m\u001b[1mrequirements:\u001b[0m ⚠️ \u001b[1mRestart runtime or rerun command for updates to take effect\u001b[0m\n",
            "\n",
            "\n",
            "\u001b[34m\u001b[1mTensorFlow SavedModel:\u001b[0m starting export with tensorflow 2.17.0...\n",
            "Downloading https://github.com/ultralytics/assets/releases/download/v8.3.0/calibration_image_sample_data_20x128x128x3_float32.npy.zip to 'calibration_image_sample_data_20x128x128x3_float32.npy.zip'...\n",
            "100% 1.11M/1.11M [00:00<00:00, 29.7MB/s]\n",
            "Unzipping calibration_image_sample_data_20x128x128x3_float32.npy.zip to /content/driver/MyDrive/projects/epics100/calibration_image_sample_data_20x128x128x3_float32.npy...: 100% 1/1 [00:00<00:00, 26.38file/s]\n",
            "\n",
            "\u001b[34m\u001b[1mONNX:\u001b[0m starting export with onnx 1.17.0 opset 19...\n",
            "\u001b[34m\u001b[1mONNX:\u001b[0m slimming with onnxslim 0.1.35...\n",
            "\u001b[34m\u001b[1mONNX:\u001b[0m export success ✅ 1.2s, saved as 'runs/detect/train2/weights/best.onnx' (11.7 MB)\n",
            "\u001b[34m\u001b[1mTensorFlow SavedModel:\u001b[0m starting TFLite export with onnx2tf 1.22.3...\n",
            "WARNING: All log messages before absl::InitializeLog() is called are written to STDERR\n",
            "I0000 00:00:1729952273.667662   12416 devices.cc:67] Number of eligible GPUs (core count >= 8, compute capability >= 0.0): 0\n",
            "WARNING: All log messages before absl::InitializeLog() is called are written to STDERR\n",
            "W0000 00:00:1729952274.456376   12416 tf_tfl_flatbuffer_helpers.cc:392] Ignored output_format.\n",
            "W0000 00:00:1729952274.456430   12416 tf_tfl_flatbuffer_helpers.cc:395] Ignored drop_control_dependency.\n",
            "I0000 00:00:1729952275.269395   12416 devices.cc:67] Number of eligible GPUs (core count >= 8, compute capability >= 0.0): 0\n",
            "W0000 00:00:1729952275.892930   12416 tf_tfl_flatbuffer_helpers.cc:392] Ignored output_format.\n",
            "W0000 00:00:1729952275.892965   12416 tf_tfl_flatbuffer_helpers.cc:395] Ignored drop_control_dependency.\n",
            "\u001b[34m\u001b[1mTensorFlow SavedModel:\u001b[0m export success ✅ 29.8s, saved as 'runs/detect/train2/weights/best_saved_model' (29.2 MB)\n",
            "\n",
            "Export complete (31.5s)\n",
            "Results saved to \u001b[1m/content/driver/MyDrive/projects/epics100/runs/detect/train2/weights\u001b[0m\n",
            "Predict:         yolo predict task=detect model=runs/detect/train2/weights/best_saved_model imgsz=640  \n",
            "Validate:        yolo val task=detect model=runs/detect/train2/weights/best_saved_model imgsz=640 data=custom.yaml  \n",
            "Visualize:       https://netron.app\n",
            "💡 Learn more at https://docs.ultralytics.com/modes/export\n"
          ]
        }
      ]
    }
  ]
}